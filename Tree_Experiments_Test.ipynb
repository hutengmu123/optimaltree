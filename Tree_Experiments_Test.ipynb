{
 "cells": [
  {
   "cell_type": "markdown",
   "metadata": {},
   "source": [
    "# Optimal Classification Tree\n"
   ]
  },
  {
   "cell_type": "markdown",
   "metadata": {},
   "source": [
    "# Library Settings"
   ]
  },
  {
   "cell_type": "code",
   "execution_count": 1,
   "metadata": {},
   "outputs": [],
   "source": [
    "import os\n",
    "import pandas as pd\n",
    "import numpy as np\n",
    "import matplotlib.pyplot as plt\n",
    "from IPython.display import Image\n",
    "import random\n",
    "from OCT_tree import RegularOptimalTreeClassifier \n",
    "from sklearn.metrics import classification_report\n",
    "from sklearn.metrics import confusion_matrix\n",
    "from sklearn import tree \n",
    "\n",
    "import graphviz\n",
    "\n",
    "#%load_ext autoreload\n",
    "#%autoreload 2"
   ]
  },
  {
   "cell_type": "markdown",
   "metadata": {},
   "source": [
    "\n",
    "# Data Processing\n"
   ]
  },
  {
   "cell_type": "code",
   "execution_count": 2,
   "metadata": {
    "scrolled": true
   },
   "outputs": [],
   "source": [
    "file_path = \"C:\\PythonProject\\InvalidTreeTest\\dataset\"\n",
    "iris_data_path =file_path + \"\\iris.csv\"\n",
    "iris_data = pd.read_csv(iris_data_path)\n",
    "iris_data.drop(columns=[\"Id\"], inplace=True)\n",
    "\n",
    "abalone_data_path = file_path + \"\\\\abalone.data\"\n",
    "abalone_data = pd.read_csv(abalone_data_path)\n",
    "abalone_data['M'] = abalone_data['M'].replace(['M'],'0')\n",
    "abalone_data['M'] = abalone_data['M'].replace(['F'],'1')\n",
    "abalone_data['M'] = abalone_data['M'].replace(['I'],'2')\n",
    "\n",
    "white_wine_data_path = file_path + \"\\winequality-white1.txt\"\n",
    "white_wine_data = pd.read_csv(white_wine_data_path,sep=\";\")\n",
    "\n",
    "red_wine_data_path = file_path + \"\\winequality-red1.txt\"\n",
    "red_wine_data = pd.read_csv(red_wine_data_path,sep=\";\")\n",
    "\n",
    "rasin_data_path = file_path + \"\\\\rasin.csv\"\n",
    "rasin_data = pd.read_csv(rasin_data_path)\n",
    "\n",
    "drybean_data_path = file_path + \"\\drybean.csv\"\n",
    "drybean_data = pd.read_csv(drybean_data_path)\n",
    "\n",
    "cancer_data_path = file_path + \"\\\\breast-cancer-wisconsin.data\"\n",
    "breastcancerwisconsin = pd.read_csv(cancer_data_path)\n",
    "breastcancerwisconsin.drop(columns=['1000025'],inplace=True)\n",
    "index = breastcancerwisconsin[ (breastcancerwisconsin['5'] == '?') | (breastcancerwisconsin['1'] == '?') \\\n",
    "                                |(breastcancerwisconsin['1.1'] == '?')|(breastcancerwisconsin['1.2'] == '?')\\\n",
    "                                |(breastcancerwisconsin['2'] == '?')|(breastcancerwisconsin['1.3'] == '?')\\\n",
    "                                |(breastcancerwisconsin['3'] == '?')|(breastcancerwisconsin['1.4'] == '?')\\\n",
    "                                |(breastcancerwisconsin['1.5'] == '?')|(breastcancerwisconsin['2.1'] == '?')].index\n",
    "breastcancerwisconsin.drop(index , inplace=True)\n",
    "\n",
    "car_data_path = file_path + \"\\car.data\"\n",
    "car = pd.read_csv(car_data_path)\n",
    "car['vhigh'].replace(['high', 'low','med','vhigh'],\n",
    "                        [0, 1,2,3], inplace=True)\n",
    "car['vhigh.1'].replace(['high', 'low','med','vhigh'],\n",
    "                        [0, 1,2,3], inplace=True)\n",
    "car['2'].replace(['2', '3','4','5more'],\n",
    "                        [0, 1,2,3], inplace=True)\n",
    "car['2.1'].replace(['2','4','more'],\n",
    "                        [0, 1,2], inplace=True)\n",
    "car['small'].replace(['small','med','big'],\n",
    "                        [0, 1,2], inplace=True)\n",
    "car['low'].replace(['low','med','high'],\n",
    "                        [0, 1,2], inplace=True)\n",
    "car['unacc'].replace(['unacc','acc','good','vgood'],\n",
    "                        [0, 1,2,3], inplace=True)\n",
    "\n",
    "data_list = [iris_data,abalone_data,white_wine_data,red_wine_data,rasin_data,drybean_data,breastcancerwisconsin,car]\n",
    "xy_list = []\n",
    "for data in data_list:\n",
    "    xy_list.append([data.iloc[:,0:len(data.columns)-1].to_numpy(),data[data.columns[len(data.columns)-1]].to_numpy()])\n"
   ]
  },
  {
   "cell_type": "markdown",
   "metadata": {},
   "source": [
    "### M-OCT Test\n",
    "\n",
    "The M-OCT is a modified version of the original OCT formulation (Bertsimas & Dunn, 2017). In the M-OCT formulation, we consider new leaf-branch-interaction constraints to ensure valid tree structure when learning the optimal trees."
   ]
  },
  {
   "cell_type": "code",
   "execution_count": 3,
   "metadata": {},
   "outputs": [
    {
     "name": "stdout",
     "output_type": "stream",
     "text": [
      "Set parameter Username\n",
      "Academic license - for non-commercial use only - expires 2023-09-30\n",
      "Read LP format model from file C:\\Users\\huten\\AppData\\Local\\Temp\\tmp6dqh24cf.pyomo.lp\n",
      "Reading time = 0.04 seconds\n",
      "x1: 3416 rows, 914 columns, 19521 nonzeros\n",
      "Set parameter TimeLimit to value 300\n",
      "Set parameter MIPGap to value 0.01\n",
      "Set parameter MIPFocus to value 2\n",
      "Gurobi Optimizer version 9.5.2 build v9.5.2rc0 (win64)\n",
      "Thread count: 4 physical cores, 8 logical processors, using up to 8 threads\n",
      "Optimize a model with 3416 rows, 914 columns and 19521 nonzeros\n",
      "Model fingerprint: 0x0a899968\n",
      "Variable types: 41 continuous, 873 integer (873 binary)\n",
      "Coefficient statistics:\n",
      "  Matrix range     [1e-06, 1e+02]\n",
      "  Objective range  [1e-02, 2e-02]\n",
      "  Bounds range     [1e+00, 1e+00]\n",
      "  RHS range        [1e+00, 1e+02]\n",
      "Presolve removed 48 rows and 1 columns\n",
      "Presolve time: 0.07s\n",
      "Presolved: 3368 rows, 913 columns, 16969 nonzeros\n",
      "Variable types: 0 continuous, 913 integer (873 binary)\n",
      "Found heuristic solution: objective 0.8268852\n",
      "Root relaxation presolve removed 24 rows and 0 columns\n",
      "Root relaxation presolved: 3344 rows, 937 columns, 16897 nonzeros\n",
      "\n",
      "\n",
      "Use crossover to convert LP symmetric solution to basic solution...\n",
      "\n",
      "Root relaxation: objective 1.000000e-02, 1004 iterations, 0.06 seconds (0.05 work units)\n",
      "\n",
      "    Nodes    |    Current Node    |     Objective Bounds      |     Work\n",
      " Expl Unexpl |  Obj  Depth IntInf | Incumbent    BestBd   Gap | It/Node Time\n",
      "\n",
      "     0     0    0.01000    0    3    0.82689    0.01000  98.8%     -    0s\n",
      "H    0     0                       0.7185246    0.01000  98.6%     -    0s\n",
      "     0     0    0.01000    0  287    0.71852    0.01000  98.6%     -    0s\n",
      "H    0     0                       0.6657377    0.01000  98.5%     -    0s\n",
      "     0     0    0.01000    0  287    0.66574    0.01000  98.5%     -    0s\n",
      "H    0     0                       0.6001639    0.01000  98.3%     -    0s\n",
      "H    0     0                       0.5018033    0.01000  98.0%     -    0s\n",
      "H    0     0                       0.3214754    0.01000  96.9%     -    0s\n",
      "H    0     0                       0.3050820    0.01000  96.7%     -    0s\n",
      "H    0     0                       0.1575410    0.01000  93.7%     -    0s\n",
      "H    0     0                       0.0919672    0.01000  89.1%     -    0s\n",
      "H    0     0                       0.0755738    0.01000  86.8%     -    0s\n",
      "     0     0    0.01000    0   25    0.07557    0.01000  86.8%     -    0s\n",
      "     0     0    0.01000    0  182    0.07557    0.01000  86.8%     -    0s\n",
      "H    0     0                       0.0591803    0.01000  83.1%     -    0s\n",
      "H    0     0                       0.0100000    0.01000  0.00%     -    0s\n",
      "\n",
      "Cutting planes:\n",
      "  Gomory: 87\n",
      "  Cover: 79\n",
      "  Implied bound: 9\n",
      "  Clique: 5\n",
      "  MIR: 21\n",
      "  StrongCG: 11\n",
      "  Flow cover: 72\n",
      "  GUB cover: 76\n",
      "  Zero half: 1\n",
      "  RLT: 9\n",
      "  BQP: 1\n",
      "\n",
      "Explored 1 nodes (2525 simplex iterations) in 0.83 seconds (0.44 work units)\n",
      "Thread count was 8 (of 8 available processors)\n",
      "\n",
      "Solution count 10: 0.01 0.0591803 0.0755738 ... 0.665738\n",
      "\n",
      "Optimal solution found (tolerance 1.00e-02)\n",
      "Best objective 1.000000000000e-02, best bound 1.000000000000e-02, gap 0.0000%\n",
      "Solver running time: 1.3442878723144531\n",
      "Solver termination condition: optimal\n",
      "Valid Tree : Yes\n"
     ]
    }
   ],
   "source": [
    "#get data sample from iris dataset\n",
    "n=100\n",
    "data_set = 0\n",
    "samples = [[],[]]\n",
    "for t in range(n):\n",
    "\n",
    "    random_number=random.randint(0,len(xy_list[data_set][0])-1)\n",
    "    samples[0].append(xy_list[data_set][0][random_number])\n",
    "    samples[1].append(xy_list[data_set][1][random_number])\n",
    "    \n",
    "X = samples[0]\n",
    "y = samples[1]\n",
    "\n",
    "\n",
    "\n",
    "\n",
    "\n",
    "# OCT parameters\n",
    "max_depth = 3\n",
    "min_samples_leaf = 1\n",
    "alpha = 0.01\n",
    "time_limit = 5  # minute\n",
    "mip_gap_tol = 0.01  # optimal gap percentage\n",
    "mip_focus = 'optimal'\n",
    "mip_polish_time = None\n",
    "warm_start = False\n",
    "log_file = None\n",
    "\n",
    "#model, run_time, solution_condition = solve_oct_MILP(X_transformed, y_transformed, L_hat, epsilons,\n",
    "#                   alpha=0.01, max_depth=2, min_samples_leaf=1, small_number = 0.0000001,\n",
    "#                   solver=\"gurobi\", small_epsilon=False,epsilon_version=False,verbose=False, log_file=None)\n",
    "\n",
    "# Construct OCT classifier\n",
    "oct_model = RegularOptimalTreeClassifier(max_depth=max_depth,\n",
    "                                  min_samples_leaf=min_samples_leaf,\n",
    "                                  alpha=alpha,\n",
    "                                  criterion=\"gini\",\n",
    "                                  solver=\"gurobi\",\n",
    "                                  time_limit=time_limit,\n",
    "                                  small_epsilon=False,\n",
    "                                  epsilon_version = True,\n",
    "                                  verbose=True,\n",
    "                                  warm_start=warm_start,\n",
    "                                  log_file=log_file,\n",
    "                                  solver_options={'mip_cuts': 'auto',\n",
    "                                                  'mip_gap_tol': mip_gap_tol,\n",
    "                                                  'mip_focus': mip_focus,\n",
    "                                                  'mip_polish_time': mip_polish_time\n",
    "                                                  }\n",
    "                                  )\n",
    "\n",
    "fitted_model = oct_model.fit(X, y)"
   ]
  },
  {
   "cell_type": "code",
   "execution_count": 4,
   "metadata": {
    "scrolled": true
   },
   "outputs": [
    {
     "data": {
      "text/plain": [
       "{8: 0.0, 9: 0.0, 10: 0.0, 11: 0.0, 12: 39.0, 13: 33.0, 14: 28.0, 15: 0.0}"
      ]
     },
     "execution_count": 4,
     "metadata": {},
     "output_type": "execute_result"
    }
   ],
   "source": [
    "# Fit\n",
    "fitted_model.leaf_solution\n"
   ]
  },
  {
   "cell_type": "code",
   "execution_count": 5,
   "metadata": {},
   "outputs": [
    {
     "data": {
      "text/plain": [
       "[[1, -0.0], [2, -0.0], [3, -0.0], [4, -0.0], [5, -0.0], [6, -0.0], [7, -0.0]]"
      ]
     },
     "execution_count": 5,
     "metadata": {},
     "output_type": "execute_result"
    }
   ],
   "source": [
    "fitted_model.b_value"
   ]
  },
  {
   "cell_type": "code",
   "execution_count": 6,
   "metadata": {},
   "outputs": [
    {
     "data": {
      "text/plain": [
       "[[1, 1], [2, -0.0], [3, -0.0], [4, -0.0], [5, -0.0], [6, -0.0], [7, -0.0]]"
      ]
     },
     "execution_count": 6,
     "metadata": {},
     "output_type": "execute_result"
    }
   ],
   "source": [
    "fitted_model.d_value"
   ]
  },
  {
   "cell_type": "code",
   "execution_count": 7,
   "metadata": {},
   "outputs": [
    {
     "data": {
      "text/plain": [
       "1"
      ]
     },
     "execution_count": 7,
     "metadata": {},
     "output_type": "execute_result"
    }
   ],
   "source": [
    "fitted_model.state"
   ]
  },
  {
   "cell_type": "code",
   "execution_count": null,
   "metadata": {},
   "outputs": [],
   "source": []
  }
 ],
 "metadata": {
  "file_extension": ".py",
  "kernelspec": {
   "display_name": "Python 3 (ipykernel)",
   "language": "python",
   "name": "python3"
  },
  "language_info": {
   "codemirror_mode": {
    "name": "ipython",
    "version": 3
   },
   "file_extension": ".py",
   "mimetype": "text/x-python",
   "name": "python",
   "nbconvert_exporter": "python",
   "pygments_lexer": "ipython3",
   "version": "3.11.4"
  },
  "mimetype": "text/x-python",
  "name": "python",
  "npconvert_exporter": "python",
  "pygments_lexer": "ipython3",
  "toc": {
   "base_numbering": 1,
   "nav_menu": {},
   "number_sections": true,
   "sideBar": true,
   "skip_h1_title": false,
   "title_cell": "Table of Contents",
   "title_sidebar": "Contents",
   "toc_cell": false,
   "toc_position": {},
   "toc_section_display": true,
   "toc_window_display": false
  },
  "varInspector": {
   "cols": {
    "lenName": 16,
    "lenType": 16,
    "lenVar": 40
   },
   "kernels_config": {
    "python": {
     "delete_cmd_postfix": "",
     "delete_cmd_prefix": "del ",
     "library": "var_list.py",
     "varRefreshCmd": "print(var_dic_list())"
    },
    "r": {
     "delete_cmd_postfix": ") ",
     "delete_cmd_prefix": "rm(",
     "library": "var_list.r",
     "varRefreshCmd": "cat(var_dic_list()) "
    }
   },
   "types_to_exclude": [
    "module",
    "function",
    "builtin_function_or_method",
    "instance",
    "_Feature"
   ],
   "window_display": false
  },
  "version": 3
 },
 "nbformat": 4,
 "nbformat_minor": 2
}
