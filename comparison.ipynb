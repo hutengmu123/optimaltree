{
 "cells": [
  {
   "cell_type": "code",
   "execution_count": 2,
   "metadata": {},
   "outputs": [],
   "source": [
    "import Bin_zhang_2019 as bin_oct\n",
    "import Maximum_flow as flow_oct\n",
    "import pandas as pd\n",
    "import numpy as np\n",
    "from OCT_tree import OptimalTreeClassifier\n",
    "from OCT_tree import BinNodePenaltyOptimalTreeClassifier\n",
    "from sklearn.model_selection import train_test_split\n",
    "from sklearn.metrics import accuracy_score"
   ]
  },
  {
   "cell_type": "code",
   "execution_count": 3,
   "metadata": {},
   "outputs": [],
   "source": [
    "from check_invalid_tree import *\n",
    "data_list = data_processing()\n",
    "\n",
    "# change the dtype to 'float64'\n",
    "data_list[1][0] = data_list[1][0].astype('float64')\n",
    "data_list[6][0] = data_list[6][0].astype('float64')\n",
    "\n",
    "\n",
    "        "
   ]
  },
  {
   "cell_type": "code",
   "execution_count": 4,
   "metadata": {},
   "outputs": [],
   "source": [
    "x = data_list[0][0]\n",
    "y = data_list[0][1]"
   ]
  },
  {
   "cell_type": "code",
   "execution_count": 5,
   "metadata": {},
   "outputs": [],
   "source": [
    "x_train, x_test, y_train, y_test = train_test_split(x, y, test_size=0.35,random_state = 42)"
   ]
  },
  {
   "cell_type": "code",
   "execution_count": 6,
   "metadata": {},
   "outputs": [],
   "source": [
    "max_depth = 2\n",
    "min_samples_leaf = 1\n",
    "alpha = 0.01\n",
    "time_limit = 60  # minute\n",
    "mip_gap_tol = 0.01  # optimal gap percentage\n",
    "mip_focus = 'optimal'\n",
    "mip_polish_time = None\n",
    "warm_start = False\n",
    "log_file = None\n",
    "oct_model = OptimalTreeClassifier(max_depth=max_depth,\n",
    "                                  min_samples_leaf=min_samples_leaf,\n",
    "                                  alpha=alpha,\n",
    "                                  criterion=\"gini\",\n",
    "                                  solver=\"gurobi\",\n",
    "                                  time_limit=time_limit,\n",
    "                                  verbose=True,\n",
    "                                  warm_start=warm_start,\n",
    "                                  log_file=log_file,\n",
    "                                  solver_options={'mip_cuts': 'auto',\n",
    "                                                  'mip_gap_tol': mip_gap_tol,\n",
    "                                                  'mip_focus': mip_focus,\n",
    "                                                  'mip_polish_time': mip_polish_time\n",
    "                                                  }\n",
    "                                  )"
   ]
  },
  {
   "cell_type": "code",
   "execution_count": 7,
   "metadata": {},
   "outputs": [
    {
     "name": "stdout",
     "output_type": "stream",
     "text": [
      "Set parameter Username\n",
      "\n",
      "--------------------------------------------\n",
      "Warning: your license will expire in 13 days\n",
      "--------------------------------------------\n",
      "\n",
      "Academic license - for non-commercial use only - expires 2023-09-30\n",
      "Read LP format model from file C:\\Users\\huten\\AppData\\Local\\Temp\\tmp4lwq9q_r.pyomo.lp\n",
      "Reading time = 0.04 seconds\n",
      "x1: 3066 rows, 1008 columns, 38667 nonzeros\n",
      "Set parameter TimeLimit to value 3600\n",
      "Set parameter MIPGap to value 0.01\n",
      "Set parameter MIPFocus to value 2\n",
      "Gurobi Optimizer version 9.5.2 build v9.5.2rc0 (win64)\n",
      "Thread count: 4 physical cores, 8 logical processors, using up to 8 threads\n",
      "Optimize a model with 3066 rows, 1008 columns and 38667 nonzeros\n",
      "Model fingerprint: 0xca587289\n",
      "Variable types: 20 continuous, 988 integer (988 binary)\n",
      "Coefficient statistics:\n",
      "  Matrix range     [1e-06, 2e+02]\n",
      "  Objective range  [9e-03, 1e-02]\n",
      "  Bounds range     [1e+00, 1e+00]\n",
      "  RHS range        [1e+00, 2e+02]\n",
      "Presolve removed 481 rows and 9 columns\n",
      "Presolve time: 0.28s\n",
      "Presolved: 2585 rows, 999 columns, 39682 nonzeros\n",
      "Variable types: 3 continuous, 996 integer (984 binary)\n",
      "Found heuristic solution: objective 0.5840741\n",
      "Root relaxation presolve removed 2 rows and 0 columns\n",
      "Root relaxation presolved: 2583 rows, 1001 columns, 39676 nonzeros\n",
      "\n",
      "\n",
      "Use crossover to convert LP symmetric solution to basic solution...\n",
      "\n",
      "Root relaxation: objective 1.000000e-02, 459 iterations, 0.06 seconds (0.04 work units)\n",
      "\n",
      "    Nodes    |    Current Node    |     Objective Bounds      |     Work\n",
      " Expl Unexpl |  Obj  Depth IntInf | Incumbent    BestBd   Gap | It/Node Time\n",
      "\n",
      "     0     0    0.01000    0   32    0.58407    0.01000  98.3%     -    0s\n",
      "H    0     0                       0.2877778    0.01000  96.5%     -    0s\n",
      "     0     0    0.01000    0  389    0.28778    0.01000  96.5%     -    0s\n",
      "H    0     0                       0.0948148    0.01089  88.5%     -    1s\n",
      "     0     0    0.02000    0   44    0.09481    0.02000  78.9%     -    1s\n",
      "     0     0    0.02000    0  325    0.09481    0.02000  78.9%     -    1s\n",
      "     0     0    0.02000    0  655    0.09481    0.02000  78.9%     -    2s\n",
      "H    0     0                       0.0748148    0.02000  73.3%     -    2s\n",
      "     0     0    0.02000    0  813    0.07481    0.02000  73.3%     -    2s\n",
      "     0     0    0.02000    0  617    0.07481    0.02000  73.3%     -    4s\n",
      "     0     0    0.02000    0  544    0.07481    0.02000  73.3%     -    4s\n",
      "     0     2    0.02000    0  544    0.07481    0.02000  73.3%     -    4s\n",
      "     7    10    0.02000    3  475    0.07481    0.02000  73.3%   384    5s\n",
      "   379    96 infeasible   16         0.07481    0.02301  69.2%   129   10s\n",
      "\n",
      "Cutting planes:\n",
      "  Learned: 46\n",
      "  Lift-and-project: 22\n",
      "  Cover: 104\n",
      "  Implied bound: 382\n",
      "  Clique: 97\n",
      "  MIR: 75\n",
      "  StrongCG: 5\n",
      "  Flow cover: 375\n",
      "  GUB cover: 8\n",
      "  Inf proof: 4\n",
      "  Zero half: 170\n",
      "  RLT: 2\n",
      "  Relax-and-lift: 59\n",
      "\n",
      "Explored 873 nodes (93575 simplex iterations) in 12.69 seconds (11.80 work units)\n",
      "Thread count was 8 (of 8 available processors)\n",
      "\n",
      "Solution count 4: 0.0748148 0.0948148 0.287778 0.584074 \n",
      "\n",
      "Optimal solution found (tolerance 1.00e-02)\n",
      "Best objective 7.481481481481e-02, best bound 7.481481481481e-02, gap 0.0000%\n",
      "Solver running time: 13.340737342834473\n",
      "Solver termination condition: optimal\n",
      "Valid Tree : Yes\n"
     ]
    }
   ],
   "source": [
    "fitted_model = oct_model.fit(x, y)"
   ]
  },
  {
   "cell_type": "code",
   "execution_count": 11,
   "metadata": {},
   "outputs": [
    {
     "name": "stdout",
     "output_type": "stream",
     "text": [
      "0.9666666666666667\n"
     ]
    }
   ],
   "source": [
    "y_pred = fitted_model.predict(x_train)\n",
    "print(accuracy_score(y_train,y_pred))"
   ]
  },
  {
   "cell_type": "code",
   "execution_count": null,
   "metadata": {
    "scrolled": true
   },
   "outputs": [],
   "source": [
    "max_depth = 2\n",
    "min_samples_leaf = 1\n",
    "alpha = 0.01\n",
    "time_limit = 5  # minute\n",
    "mip_gap_tol = 0.01  # optimal gap percentage\n",
    "mip_focus = 'optimal'\n",
    "mip_polish_time = None\n",
    "warm_start = True\n",
    "log_file = None\n",
    "small_epsilon = False\n",
    "epsilon_version = False\n",
    "oct_model_bin = BinNodePenaltyOptimalTreeClassifier(max_depth=max_depth,\n",
    "                                  min_samples_leaf=min_samples_leaf,\n",
    "                                  alpha=alpha,\n",
    "                                  criterion=\"gini\",\n",
    "                                  solver=\"gurobi\",\n",
    "                                  time_limit=time_limit,\n",
    "                                  verbose=True,\n",
    "                                  warm_start=warm_start,\n",
    "                                  log_file=log_file,\n",
    "                                  solver_options={'mip_cuts': 'auto',\n",
    "                                                  'mip_gap_tol': mip_gap_tol,\n",
    "                                                  'mip_focus': mip_focus,\n",
    "                                                  'mip_polish_time': mip_polish_time\n",
    "                                                  })"
   ]
  },
  {
   "cell_type": "code",
   "execution_count": null,
   "metadata": {},
   "outputs": [],
   "source": [
    "oct_model_bin.fit(x,y)"
   ]
  },
  {
   "cell_type": "code",
   "execution_count": null,
   "metadata": {},
   "outputs": [],
   "source": [
    "y_pred = oct_model_bin.predict(x_train)\n",
    "print(accuracy_score(y_train,y_pred))"
   ]
  },
  {
   "cell_type": "code",
   "execution_count": 17,
   "metadata": {},
   "outputs": [],
   "source": [
    "max_depth = 2\n",
    "timelimit = 300\n",
    "boct = bin_oct.binOptimalDecisionTreeClassifier(max_depth=max_depth, min_samples_split=1, timelimit=timelimit)"
   ]
  },
  {
   "cell_type": "code",
   "execution_count": 13,
   "metadata": {},
   "outputs": [
    {
     "name": "stdout",
     "output_type": "stream",
     "text": [
      "Training data include 232 instances, 16 features.\n",
      "Set parameter Username\n",
      "Academic license - for non-commercial use only - expires 2024-08-25\n",
      "Set parameter TimeLimit to value 300\n",
      "Gurobi Optimizer version 10.0.2 build v10.0.2rc0 (win64)\n",
      "\n",
      "CPU model: Intel(R) Core(TM) i7-8650U CPU @ 1.90GHz, instruction set [SSE2|AVX|AVX2]\n",
      "Thread count: 4 physical cores, 8 logical processors, using up to 8 threads\n",
      "\n",
      "Optimize a model with 1227 rows, 996 columns and 19612 nonzeros\n",
      "Model fingerprint: 0xfb179c47\n",
      "Variable types: 936 continuous, 60 integer (60 binary)\n",
      "Coefficient statistics:\n",
      "  Matrix range     [1e+00, 2e+02]\n",
      "  Objective range  [8e-03, 8e-03]\n",
      "  Bounds range     [1e+00, 1e+00]\n",
      "  RHS range        [1e+00, 2e+02]\n",
      "\n",
      "User MIP start produced solution with objective 0.0564516 (0.03s)\n",
      "Loaded user MIP start with objective 0.0564516\n",
      "\n",
      "Presolve removed 361 rows and 289 columns\n",
      "Presolve time: 0.05s\n",
      "Presolved: 866 rows, 707 columns, 13927 nonzeros\n",
      "Variable types: 651 continuous, 56 integer (56 binary)\n",
      "\n",
      "Root relaxation: objective 0.000000e+00, 188 iterations, 0.02 seconds (0.01 work units)\n",
      "\n",
      "    Nodes    |    Current Node    |     Objective Bounds      |     Work\n",
      " Expl Unexpl |  Obj  Depth IntInf | Incumbent    BestBd   Gap | It/Node Time\n",
      "\n",
      "     0     0    0.00000    0    4    0.05645    0.00000   100%     -    0s\n",
      "     0     0    0.00000    0   10    0.05645    0.00000   100%     -    0s\n",
      "     0     0    0.00000    0   10    0.05645    0.00000   100%     -    0s\n",
      "     0     0    0.00000    0   10    0.05645    0.00000   100%     -    0s\n",
      "     0     0    0.00000    0   10    0.05645    0.00000   100%     -    0s\n",
      "     0     0    0.00000    0    9    0.05645    0.00000   100%     -    0s\n",
      "     0     0    0.00000    0    9    0.05645    0.00000   100%     -    0s\n",
      "     0     2    0.00000    0    9    0.05645    0.00000   100%     -    0s\n",
      "\n",
      "Cutting planes:\n",
      "  Lift-and-project: 1\n",
      "  Implied bound: 764\n",
      "  MIR: 15\n",
      "  Flow cover: 33\n",
      "  RLT: 10\n",
      "  Relax-and-lift: 178\n",
      "\n",
      "Explored 960 nodes (62143 simplex iterations) in 2.27 seconds (2.28 work units)\n",
      "Thread count was 8 (of 8 available processors)\n",
      "\n",
      "Solution count 1: 0.0564516 \n",
      "\n",
      "Optimal solution found (tolerance 1.00e-04)\n",
      "Best objective 5.645161290323e-02, best bound 5.645161290323e-02, gap 0.0000%\n"
     ]
    }
   ],
   "source": [
    "boct.fit(x, y)"
   ]
  },
  {
   "cell_type": "code",
   "execution_count": 14,
   "metadata": {},
   "outputs": [
    {
     "name": "stdout",
     "output_type": "stream",
     "text": [
      "0.9666666666666667\n"
     ]
    }
   ],
   "source": [
    "y_pred = boct.predict(x_train)\n",
    "print(accuracy_score(y_train,y_pred))"
   ]
  },
  {
   "cell_type": "code",
   "execution_count": 19,
   "metadata": {},
   "outputs": [],
   "source": [
    "mflow = flow_oct.maxFlowOptimalDecisionTreeClassifier(max_depth=max_depth, timelimit=timelimit)"
   ]
  },
  {
   "cell_type": "code",
   "execution_count": 20,
   "metadata": {},
   "outputs": [
    {
     "name": "stdout",
     "output_type": "stream",
     "text": [
      "Training data include 232 instances, 16 features.\n",
      "Set parameter TimeLimit to value 300\n",
      "Set parameter LazyConstraints to value 1\n",
      "Gurobi Optimizer version 10.0.2 build v10.0.2rc0 (win64)\n",
      "\n",
      "CPU model: Intel(R) Core(TM) i7-8650U CPU @ 1.90GHz, instruction set [SSE2|AVX|AVX2]\n",
      "Thread count: 4 physical cores, 8 logical processors, using up to 8 threads\n",
      "\n",
      "Optimize a model with 14 rows, 301 columns and 86 nonzeros\n",
      "Model fingerprint: 0x20283c22\n",
      "Variable types: 232 continuous, 69 integer (69 binary)\n",
      "Coefficient statistics:\n",
      "  Matrix range     [1e+00, 1e+00]\n",
      "  Objective range  [8e-03, 8e-03]\n",
      "  Bounds range     [1e+00, 1e+00]\n",
      "  RHS range        [1e+00, 1e+00]\n",
      "\n",
      "User MIP start did not produce a new incumbent solution\n",
      "\n",
      "Presolve removed 6 rows and 6 columns\n",
      "Presolve time: 0.00s\n",
      "Presolved: 8 rows, 295 columns, 76 nonzeros\n",
      "Variable types: 232 continuous, 63 integer (63 binary)\n",
      "\n",
      "Root relaxation: objective 1.870968e+00, 8 iterations, 0.00 seconds (0.00 work units)\n",
      "\n",
      "    Nodes    |    Current Node    |     Objective Bounds      |     Work\n",
      " Expl Unexpl |  Obj  Depth IntInf | Incumbent    BestBd   Gap | It/Node Time\n",
      "\n",
      "     0     0    1.87097    0    -          -    1.87097      -     -    0s\n",
      "Another try with MIP start\n",
      "H    0     0                       1.8145161    1.87097  3.11%     -    0s\n",
      "     0     0    1.87097    0   13    1.81452    1.87097  3.11%     -    0s\n",
      "     0     0    1.87097    0   14    1.81452    1.87097  3.11%     -    0s\n",
      "     0     0    1.87097    0    -    1.81452    1.87097  3.11%     -    0s\n",
      "     0     0    1.87097    0   11    1.81452    1.87097  3.11%     -    0s\n",
      "     0     2    1.87097    0   10    1.81452    1.87097  3.11%     -    0s\n",
      "\n",
      "Cutting planes:\n",
      "  Lazy constraints: 735\n",
      "\n",
      "Explored 447 nodes (8805 simplex iterations) in 1.29 seconds (0.38 work units)\n",
      "Thread count was 8 (of 8 available processors)\n",
      "\n",
      "Solution count 1: 1.81452 \n",
      "\n",
      "Optimal solution found (tolerance 1.00e-04)\n",
      "Best objective 1.814516129032e+00, best bound 1.814516129032e+00, gap 0.0000%\n",
      "\n",
      "User-callback calls 1146, time in user-callback 0.91 sec\n"
     ]
    }
   ],
   "source": [
    "mflow.fit(x, y)"
   ]
  },
  {
   "cell_type": "code",
   "execution_count": 21,
   "metadata": {},
   "outputs": [
    {
     "name": "stdout",
     "output_type": "stream",
     "text": [
      "0.9666666666666667\n"
     ]
    }
   ],
   "source": [
    "y_pred = mflow.predict(x_train)\n",
    "print(accuracy_score(y_train,y_pred))"
   ]
  },
  {
   "cell_type": "code",
   "execution_count": null,
   "metadata": {},
   "outputs": [],
   "source": []
  }
 ],
 "metadata": {
  "kernelspec": {
   "display_name": "Python 3 (ipykernel)",
   "language": "python",
   "name": "python3"
  },
  "language_info": {
   "codemirror_mode": {
    "name": "ipython",
    "version": 3
   },
   "file_extension": ".py",
   "mimetype": "text/x-python",
   "name": "python",
   "nbconvert_exporter": "python",
   "pygments_lexer": "ipython3",
   "version": "3.11.4"
  }
 },
 "nbformat": 4,
 "nbformat_minor": 2
}
